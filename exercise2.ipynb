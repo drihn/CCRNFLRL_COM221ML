{
  "nbformat": 4,
  "nbformat_minor": 0,
  "metadata": {
    "colab": {
      "provenance": [],
      "include_colab_link": true
    },
    "kernelspec": {
      "name": "python3",
      "display_name": "Python 3"
    },
    "language_info": {
      "name": "python"
    }
  },
  "cells": [
    {
      "cell_type": "markdown",
      "metadata": {
        "id": "view-in-github",
        "colab_type": "text"
      },
      "source": [
        "<a href=\"https://colab.research.google.com/github/drihn/CCRNFLRL_COM221ML/blob/main/exercise2.ipynb\" target=\"_parent\"><img src=\"https://colab.research.google.com/assets/colab-badge.svg\" alt=\"Open In Colab\"/></a>"
      ]
    },
    {
      "cell_type": "markdown",
      "source": [
        "# Exercise 2"
      ],
      "metadata": {
        "id": "gh4_1T3XTRg6"
      }
    },
    {
      "cell_type": "code",
      "source": [
        "from math import sqrt, log\n",
        "import pandas as pd"
      ],
      "metadata": {
        "id": "-6zwzOH0TMq0"
      },
      "execution_count": 584,
      "outputs": []
    },
    {
      "cell_type": "code",
      "source": [
        "# Make sure your spreadsheet is saved in your google drive\n",
        "\n",
        "from google.colab import drive\n",
        "drive.mount('/content/drive')"
      ],
      "metadata": {
        "id": "qu0DiZ3w261j",
        "colab": {
          "base_uri": "https://localhost:8080/"
        },
        "outputId": "ca6d076b-7bd2-4a07-9e27-6d251e6eab4d"
      },
      "execution_count": 585,
      "outputs": [
        {
          "output_type": "stream",
          "name": "stdout",
          "text": [
            "Drive already mounted at /content/drive; to attempt to forcibly remount, call drive.mount(\"/content/drive\", force_remount=True).\n"
          ]
        }
      ]
    },
    {
      "cell_type": "markdown",
      "source": [
        "## Step 1: Enter your data\n",
        "\n",
        "Add a new row after each pull: Pull number, Machine played (\"A\", \"B\", \"C\"), and Reward earned."
      ],
      "metadata": {
        "id": "kZCcIK8dTkot"
      }
    },
    {
      "cell_type": "code",
      "source": [
        "# To load data from a Google Sheet, you need the SHEET_ID and SHEET_NAME.\n",
        "# You can find the SHEET_ID in the URL of your Google Sheet, between \"/d/\" and \"/edit\".\n",
        "# The SHEET_NAME is usually \"Sheet1\" by default, but you should verify the name of the sheet containing your data.\n",
        "# Ensure your Google Sheet is shared with \"Anyone with the link\" as Viewer.\n",
        "\n",
        "SHEET_ID = '11NxyRM128KhUaTYuYragO3dk1ctrAW_S6Fa-DpD1oHA'\n",
        "SHEET_NAME = 'UCB'\n",
        "url = f'https://docs.google.com/spreadsheets/d/{SHEET_ID}/gviz/tq?tqx=out:csv&sheet={SHEET_NAME}'\n",
        "\n",
        "try:\n",
        "    data = pd.read_csv(url)\n",
        "    print(\"Data loaded successfully:\")\n",
        "except Exception as e:\n",
        "    print(f\"Error loading data: {e}\")\n",
        "    print(\"Please ensure the sheet is publicly accessible or shared with 'Anyone with the link' as Viewer.\")"
      ],
      "metadata": {
        "colab": {
          "base_uri": "https://localhost:8080/"
        },
        "id": "j4tJVIxW3w3K",
        "outputId": "1b1782fc-a429-4e7f-aa13-7bd5e5226dab"
      },
      "execution_count": 586,
      "outputs": [
        {
          "output_type": "stream",
          "name": "stdout",
          "text": [
            "Data loaded successfully:\n"
          ]
        }
      ]
    },
    {
      "cell_type": "markdown",
      "source": [
        "# Step 2: Calculate UCB"
      ],
      "metadata": {
        "id": "9pAruytjTt-b"
      }
    },
    {
      "cell_type": "code",
      "execution_count": 587,
      "metadata": {
        "id": "7iyebQ41S3pA"
      },
      "outputs": [],
      "source": [
        "def calculate_ucb(df):\n",
        "    results = []\n",
        "    total_pulls = df.dropna(subset=['Machine'])['Pull #'].max()\n",
        "    print(total_pulls)\n",
        "    if pd.isna(total_pulls):\n",
        "        total_pulls = 0\n",
        "\n",
        "    machines = sorted(df[\"Machine\"].dropna().unique())\n",
        "\n",
        "    for machine in machines:\n",
        "        machine_data = df[df[\"Machine\"] == machine].dropna(subset=['Pull #', 'Reward'])\n",
        "        n_j = len(machine_data)\n",
        "        avg_reward = machine_data[\"Reward\"].mean() if n_j > 0 else 0\n",
        "        exploration_bonus = sqrt((2 * log(total_pulls)) / n_j) if n_j > 0 and total_pulls > 0 else float(\"inf\")\n",
        "        ucb_score = avg_reward + exploration_bonus\n",
        "        results.append({\n",
        "            \"Machine\": machine,\n",
        "            \"UCB Score\": round(ucb_score, 4)\n",
        "        })\n",
        "    return pd.DataFrame(results).sort_values(by=\"UCB Score\", ascending=False)"
      ]
    },
    {
      "cell_type": "markdown",
      "source": [
        "\n",
        "# Step 3: Calculate and display\n"
      ],
      "metadata": {
        "id": "GmVaGjpdT4eA"
      }
    },
    {
      "cell_type": "code",
      "source": [
        "ucb_table = calculate_ucb(data)\n",
        "print(\"📊 UCB Results Table\")\n",
        "print(ucb_table)"
      ],
      "metadata": {
        "colab": {
          "base_uri": "https://localhost:8080/"
        },
        "id": "ZXBIvOEVTVND",
        "outputId": "fd6b2ce6-ce84-42b7-98d5-76356b4ea6db"
      },
      "execution_count": 588,
      "outputs": [
        {
          "output_type": "stream",
          "name": "stdout",
          "text": [
            "100\n",
            "📊 UCB Results Table\n",
            "  Machine  UCB Score\n",
            "0       A     2.5962\n",
            "1       B     1.2390\n",
            "2       C     1.2390\n"
          ]
        }
      ]
    },
    {
      "cell_type": "code",
      "source": [
        "last_input_index = data.dropna(subset=['Machine']).index.max()\n",
        "\n",
        "if pd.isna(last_input_index):\n",
        "    print(\"No machine data has been inputted yet to update UCB scores.\")\n",
        "else:\n",
        "\n",
        "    ucb_a_score = ucb_table[ucb_table['Machine'] == 'A']['UCB Score'].iloc[0] if 'A' in ucb_table['Machine'].values else None\n",
        "    ucb_b_score = ucb_table[ucb_table['Machine'] == 'B']['UCB Score'].iloc[0] if 'B' in ucb_table['Machine'].values else None\n",
        "    ucb_c_score = ucb_table[ucb_table['Machine'] == 'C']['UCB Score'].iloc[0] if 'C' in ucb_table['Machine'].values else None\n",
        "\n",
        "    # Update the corresponding UCB score columns in the last inputted row\n",
        "    if 'UCB Score A' in data.columns and ucb_a_score is not None:\n",
        "        data.loc[last_input_index, 'UCB Score A'] = ucb_a_score\n",
        "    else:\n",
        "         print(\"Warning: Could not update 'UCB Score A'. Column not found or Machine A score not available.\")\n",
        "\n",
        "    if 'UCB Score B' in data.columns and ucb_b_score is not None:\n",
        "        data.loc[last_input_index, 'UCB Score B'] = ucb_b_score\n",
        "    else:\n",
        "        print(\"Warning: Could not update 'UCB Score B'. Column not found or Machine B score not available.\")\n",
        "\n",
        "    if 'UCB Score C' in data.columns and ucb_c_score is not None:\n",
        "        data.loc[last_input_index, 'UCB Score C'] = ucb_c_score\n",
        "    else:\n",
        "        print(\"Warning: Could not update 'UCB Score C'. Column not found or Machine C score not available.\")\n",
        "\n",
        "    print(f\"UCB scores for Machines A, B, and C updated in the last inputted row (index: {last_input_index}) of the data DataFrame.\")\n",
        "    # Display the updated last row with the relevant columns\n",
        "    display(data.loc[[last_input_index], ['Pull #', 'Machine', 'Reward', 'UCB Score A', 'UCB Score B', 'UCB Score C']])"
      ],
      "metadata": {
        "colab": {
          "base_uri": "https://localhost:8080/",
          "height": 99
        },
        "id": "JLdqm2ZyA7Xe",
        "outputId": "fb67dccd-31f7-4f7c-b36d-d238928bae81"
      },
      "execution_count": 589,
      "outputs": [
        {
          "output_type": "stream",
          "name": "stdout",
          "text": [
            "UCB scores for Machines A, B, and C updated in the last inputted row (index: 99) of the data DataFrame.\n"
          ]
        },
        {
          "output_type": "display_data",
          "data": {
            "text/plain": [
              "    Pull # Machine  Reward  UCB Score A  UCB Score B  UCB Score C\n",
              "99     100       A     0.0       2.5962        1.239        1.239"
            ],
            "text/html": [
              "\n",
              "  <div id=\"df-d1dc06e0-e7f1-41e6-9dea-e53793539525\" class=\"colab-df-container\">\n",
              "    <div>\n",
              "<style scoped>\n",
              "    .dataframe tbody tr th:only-of-type {\n",
              "        vertical-align: middle;\n",
              "    }\n",
              "\n",
              "    .dataframe tbody tr th {\n",
              "        vertical-align: top;\n",
              "    }\n",
              "\n",
              "    .dataframe thead th {\n",
              "        text-align: right;\n",
              "    }\n",
              "</style>\n",
              "<table border=\"1\" class=\"dataframe\">\n",
              "  <thead>\n",
              "    <tr style=\"text-align: right;\">\n",
              "      <th></th>\n",
              "      <th>Pull #</th>\n",
              "      <th>Machine</th>\n",
              "      <th>Reward</th>\n",
              "      <th>UCB Score A</th>\n",
              "      <th>UCB Score B</th>\n",
              "      <th>UCB Score C</th>\n",
              "    </tr>\n",
              "  </thead>\n",
              "  <tbody>\n",
              "    <tr>\n",
              "      <th>99</th>\n",
              "      <td>100</td>\n",
              "      <td>A</td>\n",
              "      <td>0.0</td>\n",
              "      <td>2.5962</td>\n",
              "      <td>1.239</td>\n",
              "      <td>1.239</td>\n",
              "    </tr>\n",
              "  </tbody>\n",
              "</table>\n",
              "</div>\n",
              "    <div class=\"colab-df-buttons\">\n",
              "\n",
              "  <div class=\"colab-df-container\">\n",
              "    <button class=\"colab-df-convert\" onclick=\"convertToInteractive('df-d1dc06e0-e7f1-41e6-9dea-e53793539525')\"\n",
              "            title=\"Convert this dataframe to an interactive table.\"\n",
              "            style=\"display:none;\">\n",
              "\n",
              "  <svg xmlns=\"http://www.w3.org/2000/svg\" height=\"24px\" viewBox=\"0 -960 960 960\">\n",
              "    <path d=\"M120-120v-720h720v720H120Zm60-500h600v-160H180v160Zm220 220h160v-160H400v160Zm0 220h160v-160H400v160ZM180-400h160v-160H180v160Zm440 0h160v-160H620v160ZM180-180h160v-160H180v160Zm440 0h160v-160H620v160Z\"/>\n",
              "  </svg>\n",
              "    </button>\n",
              "\n",
              "  <style>\n",
              "    .colab-df-container {\n",
              "      display:flex;\n",
              "      gap: 12px;\n",
              "    }\n",
              "\n",
              "    .colab-df-convert {\n",
              "      background-color: #E8F0FE;\n",
              "      border: none;\n",
              "      border-radius: 50%;\n",
              "      cursor: pointer;\n",
              "      display: none;\n",
              "      fill: #1967D2;\n",
              "      height: 32px;\n",
              "      padding: 0 0 0 0;\n",
              "      width: 32px;\n",
              "    }\n",
              "\n",
              "    .colab-df-convert:hover {\n",
              "      background-color: #E2EBFA;\n",
              "      box-shadow: 0px 1px 2px rgba(60, 64, 67, 0.3), 0px 1px 3px 1px rgba(60, 64, 67, 0.15);\n",
              "      fill: #174EA6;\n",
              "    }\n",
              "\n",
              "    .colab-df-buttons div {\n",
              "      margin-bottom: 4px;\n",
              "    }\n",
              "\n",
              "    [theme=dark] .colab-df-convert {\n",
              "      background-color: #3B4455;\n",
              "      fill: #D2E3FC;\n",
              "    }\n",
              "\n",
              "    [theme=dark] .colab-df-convert:hover {\n",
              "      background-color: #434B5C;\n",
              "      box-shadow: 0px 1px 3px 1px rgba(0, 0, 0, 0.15);\n",
              "      filter: drop-shadow(0px 1px 2px rgba(0, 0, 0, 0.3));\n",
              "      fill: #FFFFFF;\n",
              "    }\n",
              "  </style>\n",
              "\n",
              "    <script>\n",
              "      const buttonEl =\n",
              "        document.querySelector('#df-d1dc06e0-e7f1-41e6-9dea-e53793539525 button.colab-df-convert');\n",
              "      buttonEl.style.display =\n",
              "        google.colab.kernel.accessAllowed ? 'block' : 'none';\n",
              "\n",
              "      async function convertToInteractive(key) {\n",
              "        const element = document.querySelector('#df-d1dc06e0-e7f1-41e6-9dea-e53793539525');\n",
              "        const dataTable =\n",
              "          await google.colab.kernel.invokeFunction('convertToInteractive',\n",
              "                                                    [key], {});\n",
              "        if (!dataTable) return;\n",
              "\n",
              "        const docLinkHtml = 'Like what you see? Visit the ' +\n",
              "          '<a target=\"_blank\" href=https://colab.research.google.com/notebooks/data_table.ipynb>data table notebook</a>'\n",
              "          + ' to learn more about interactive tables.';\n",
              "        element.innerHTML = '';\n",
              "        dataTable['output_type'] = 'display_data';\n",
              "        await google.colab.output.renderOutput(dataTable, element);\n",
              "        const docLink = document.createElement('div');\n",
              "        docLink.innerHTML = docLinkHtml;\n",
              "        element.appendChild(docLink);\n",
              "      }\n",
              "    </script>\n",
              "  </div>\n",
              "\n",
              "\n",
              "    </div>\n",
              "  </div>\n"
            ],
            "application/vnd.google.colaboratory.intrinsic+json": {
              "type": "dataframe",
              "summary": "{\n  \"name\": \"    display(data\",\n  \"rows\": 1,\n  \"fields\": [\n    {\n      \"column\": \"Pull #\",\n      \"properties\": {\n        \"dtype\": \"number\",\n        \"std\": null,\n        \"min\": 100,\n        \"max\": 100,\n        \"num_unique_values\": 1,\n        \"samples\": [\n          100\n        ],\n        \"semantic_type\": \"\",\n        \"description\": \"\"\n      }\n    },\n    {\n      \"column\": \"Machine\",\n      \"properties\": {\n        \"dtype\": \"string\",\n        \"num_unique_values\": 1,\n        \"samples\": [\n          \"A\"\n        ],\n        \"semantic_type\": \"\",\n        \"description\": \"\"\n      }\n    },\n    {\n      \"column\": \"Reward\",\n      \"properties\": {\n        \"dtype\": \"number\",\n        \"std\": null,\n        \"min\": 0.0,\n        \"max\": 0.0,\n        \"num_unique_values\": 1,\n        \"samples\": [\n          0.0\n        ],\n        \"semantic_type\": \"\",\n        \"description\": \"\"\n      }\n    },\n    {\n      \"column\": \"UCB Score A\",\n      \"properties\": {\n        \"dtype\": \"number\",\n        \"std\": null,\n        \"min\": 2.5962,\n        \"max\": 2.5962,\n        \"num_unique_values\": 1,\n        \"samples\": [\n          2.5962\n        ],\n        \"semantic_type\": \"\",\n        \"description\": \"\"\n      }\n    },\n    {\n      \"column\": \"UCB Score B\",\n      \"properties\": {\n        \"dtype\": \"number\",\n        \"std\": null,\n        \"min\": 1.239,\n        \"max\": 1.239,\n        \"num_unique_values\": 1,\n        \"samples\": [\n          1.239\n        ],\n        \"semantic_type\": \"\",\n        \"description\": \"\"\n      }\n    },\n    {\n      \"column\": \"UCB Score C\",\n      \"properties\": {\n        \"dtype\": \"number\",\n        \"std\": null,\n        \"min\": 1.239,\n        \"max\": 1.239,\n        \"num_unique_values\": 1,\n        \"samples\": [\n          1.239\n        ],\n        \"semantic_type\": \"\",\n        \"description\": \"\"\n      }\n    }\n  ]\n}"
            }
          },
          "metadata": {}
        }
      ]
    },
    {
      "cell_type": "code",
      "source": [
        "best_machine = ucb_table.iloc[0][\"Machine\"]\n",
        "print(f\"\\n🎯 Recommended next machine to play: {best_machine}\")"
      ],
      "metadata": {
        "colab": {
          "base_uri": "https://localhost:8080/"
        },
        "id": "i-40KDYWC-hU",
        "outputId": "ec319563-ea0f-4811-da42-4e53336f223e"
      },
      "execution_count": 590,
      "outputs": [
        {
          "output_type": "stream",
          "name": "stdout",
          "text": [
            "\n",
            "🎯 Recommended next machine to play: A\n"
          ]
        }
      ]
    },
    {
      "cell_type": "markdown",
      "source": [
        "Based on the data, Machine A is the only profitable one, showing a positive average pull value (2.17), while Machines B and C have no recorded profit (average = 0)."
      ],
      "metadata": {
        "id": "m6Fy0y1iS_Ev"
      }
    }
  ]
}